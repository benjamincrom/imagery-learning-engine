{
 "cells": [
  {
   "cell_type": "code",
   "execution_count": 5,
   "metadata": {},
   "outputs": [],
   "source": [
    "import requests\n",
    "import requests.auth\n",
    "\n",
    "\n",
    "CLIENT_ID = \"78nsl9dmv9su9r\"\n",
    "CLIENT_SECRET = \"7J3SX4TcpujcbA4H\"\n",
    "REDIRECT_URI = \"\"\n",
    "\n",
    "\n",
    "def get_token(code):\n",
    "    client_auth = requests.auth.HTTPBasicAuth(CLIENT_ID, CLIENT_SECRET)\n",
    "    post_data = {\"grant_type\": \"authorization_code\",\n",
    "                 \"code\": code,\n",
    "                 \"redirect_uri\": REDIRECT_URI}\n",
    "    response = requests.post(\"https://ssl.reddit.com/api/v1/access_token\",\n",
    "                             auth=client_auth,\n",
    "                             data=post_data)\n",
    "    token_json = response.json()\n",
    "    \n",
    "    return token_json[\"access_token\"]"
   ]
  },
  {
   "cell_type": "code",
   "execution_count": null,
   "metadata": {},
   "outputs": [],
   "source": [
    "get_token"
   ]
  }
 ],
 "metadata": {
  "kernelspec": {
   "display_name": "Python 3",
   "language": "python3.6",
   "name": "python3"
  },
  "language_info": {
   "codemirror_mode": {
    "name": "ipython",
    "version": 3
   },
   "file_extension": ".py",
   "mimetype": "text/x-python",
   "name": "python",
   "nbconvert_exporter": "python",
   "pygments_lexer": "ipython3",
   "version": "3.6.4"
  }
 },
 "nbformat": 4,
 "nbformat_minor": 2
}
