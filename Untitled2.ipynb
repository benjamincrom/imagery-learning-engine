{
 "cells": [
  {
   "cell_type": "code",
   "execution_count": null,
   "metadata": {},
   "outputs": [
    {
     "name": "stdout",
     "output_type": "stream",
     "text": [
      "oauth_token=86--e5cc8901-99ed-4471-8754-58ca3e52498d&oauth_token_secret=17ced0cf-4ef7-4fb9-ba23-070d2c85f11f&oauth_callback_confirmed=true&xoauth_request_auth_url=https%3A%2F%2Fapi.linkedin.com%2Fuas%2Foauth%2Fauthorize&oauth_expires_in=599\n",
      "\n",
      "\n",
      "Request Token: \n",
      "\n",
      "- oauth_token        = 86--e5cc8901-99ed-4471-8754-58ca3e52498d \n",
      "\n",
      "- oauth_token_secret = 17ced0cf-4ef7-4fb9-ba23-070d2c85f11f \n",
      "\n",
      "Go to the following link in your browser: \n",
      "\n",
      "https://api.linkedin.com/uas/oauth/authorize?oauth_token=86--e5cc8901-99ed-4471-8754-58ca3e52498d \n",
      "\n"
     ]
    }
   ],
   "source": [
    "import oauth2 as oauth\n",
    "import urlparse\n",
    "\n",
    "consumer_key = '78nsl9dmv9su9r'\n",
    "consumer_secret = '7J3SX4TcpujcbA4H'\n",
    "consumer = oauth.Consumer(consumer_key, consumer_secret)\n",
    "client = oauth.Client(consumer)\n",
    "\n",
    "request_token_url = 'https://api.linkedin.com/uas/oauth/requestToken'\n",
    "resp, content = client.request(request_token_url, \"POST\")\n",
    "if resp['status'] != '200':\n",
    "    raise Exception(\"Invalid response %s.\" % resp['status'])\n",
    "\n",
    "print content\n",
    "print \"\\n\"\n",
    "\n",
    "request_token = dict(urlparse.parse_qsl(content))\n",
    "\n",
    "print \"Request Token:\",  \"\\n\"\n",
    "print \"- oauth_token        = %s\" % request_token['oauth_token'], \"\\n\"\n",
    "print \"- oauth_token_secret = %s\" % request_token['oauth_token_secret'], \"\\n\"\n",
    "\n",
    "authorize_url = 'https://api.linkedin.com/uas/oauth/authorize'\n",
    "print \"Go to the following link in your browser:\", \"\\n\"\n",
    "print \"%s?oauth_token=%s\" % (authorize_url, request_token['oauth_token']), \"\\n\"\n",
    "\n",
    "accepted = 'n'\n",
    "while accepted.lower() == 'n':\n",
    "    accepted = raw_input('Have you authorized me? (y/n) ')\n",
    "oauth_verifier = raw_input('What is the PIN? ')\n",
    "\n",
    "access_token_url = 'https://api.linkedin.com/uas/oauth/accessToken'\n",
    "token = oauth.Token(request_token['oauth_token'], request_token['oauth_token_secret'])\n",
    "token.set_verifier(oauth_verifier)\n",
    "client = oauth.Client(consumer, token)\n",
    "\n",
    "resp, content = client.request(access_token_url, \"POST\")\n",
    "access_token = dict(urlparse.parse_qsl(content))\n",
    "\n",
    "print \"Access Token:\", \"\\n\"\n",
    "print \"- oauth_token        = %s\" % access_token['oauth_token'], \"\\n\"\n",
    "print \"- oauth_token_secret = %s\" % access_token['oauth_token_secret']\n",
    "print \"You may now access protected resources using the access tokens above.\""
   ]
  },
  {
   "cell_type": "code",
   "execution_count": null,
   "metadata": {},
   "outputs": [],
   "source": [
    "{'oauth_authorization_expires_in': '5183984',\n",
    " 'oauth_expires_in': '5183984',\n",
    " 'oauth_token': 'fe8309e8-79c1-4bf2-98d7-0d2df8b8c3a9',\n",
    " 'oauth_token_secret': '8bf1b749-6461-4b62-b44c-84d6e36b08cd'}"
   ]
  },
  {
   "cell_type": "code",
   "execution_count": 2,
   "metadata": {},
   "outputs": [
    {
     "data": {
      "text/plain": [
       "{'oauth_authorization_expires_in': '5183984',\n",
       " 'oauth_expires_in': '5183984',\n",
       " 'oauth_token': 'fe8309e8-79c1-4bf2-98d7-0d2df8b8c3a9',\n",
       " 'oauth_token_secret': '8bf1b749-6461-4b62-b44c-84d6e36b08cd'}"
      ]
     },
     "execution_count": 2,
     "metadata": {},
     "output_type": "execute_result"
    }
   ],
   "source": [
    "access_token"
   ]
  },
  {
   "cell_type": "code",
   "execution_count": 5,
   "metadata": {},
   "outputs": [
    {
     "data": {
      "text/plain": [
       "{'oauth_authorization_expires_in': '5183982',\n",
       " 'oauth_expires_in': '5183982',\n",
       " 'oauth_token': 'fe8309e8-79c1-4bf2-98d7-0d2df8b8c3a9',\n",
       " 'oauth_token_secret': '8bf1b749-6461-4b62-b44c-84d6e36b08cd'}"
      ]
     },
     "execution_count": 5,
     "metadata": {},
     "output_type": "execute_result"
    }
   ],
   "source": [
    "access_token"
   ]
  },
  {
   "cell_type": "code",
   "execution_count": null,
   "metadata": {},
   "outputs": [],
   "source": []
  }
 ],
 "metadata": {
  "kernelspec": {
   "display_name": "Python 2",
   "language": "python",
   "name": "python2"
  },
  "language_info": {
   "codemirror_mode": {
    "name": "ipython",
    "version": 2
   },
   "file_extension": ".py",
   "mimetype": "text/x-python",
   "name": "python",
   "nbconvert_exporter": "python",
   "pygments_lexer": "ipython2",
   "version": "2.7.14"
  }
 },
 "nbformat": 4,
 "nbformat_minor": 2
}
