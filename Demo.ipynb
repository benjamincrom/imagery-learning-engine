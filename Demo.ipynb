{
 "cells": [
  {
   "cell_type": "code",
   "execution_count": 23,
   "metadata": {},
   "outputs": [],
   "source": [
    "import pandas\n",
    "\n",
    "from pymongo import MongoClient\n",
    "\n",
    "client = MongoClient('localhost', 27017)\n",
    "imagery_database = client.imagery_database"
   ]
  },
  {
   "cell_type": "code",
   "execution_count": 31,
   "metadata": {},
   "outputs": [
    {
     "data": {
      "text/html": [
       "<div>\n",
       "<style scoped>\n",
       "    .dataframe tbody tr th:only-of-type {\n",
       "        vertical-align: middle;\n",
       "    }\n",
       "\n",
       "    .dataframe tbody tr th {\n",
       "        vertical-align: top;\n",
       "    }\n",
       "\n",
       "    .dataframe thead th {\n",
       "        text-align: right;\n",
       "    }\n",
       "</style>\n",
       "<table border=\"1\" class=\"dataframe\">\n",
       "  <thead>\n",
       "    <tr style=\"text-align: right;\">\n",
       "      <th></th>\n",
       "      <th>_id</th>\n",
       "      <th>filename</th>\n",
       "      <th>height</th>\n",
       "      <th>modified_datetime</th>\n",
       "      <th>text</th>\n",
       "      <th>width</th>\n",
       "      <th>x</th>\n",
       "      <th>y</th>\n",
       "    </tr>\n",
       "  </thead>\n",
       "  <tbody>\n",
       "    <tr>\n",
       "      <th>0</th>\n",
       "      <td>5b1dde67cfc722ff5f3294b0</td>\n",
       "      <td>set1_01.JPG</td>\n",
       "      <td>0.079167</td>\n",
       "      <td>2018-06-11 02:28:55.568</td>\n",
       "      <td>3638</td>\n",
       "      <td>0.105556</td>\n",
       "      <td>0.609722</td>\n",
       "      <td>0.725000</td>\n",
       "    </tr>\n",
       "    <tr>\n",
       "      <th>1</th>\n",
       "      <td>5b1dde6dcfc722ff5f3294b2</td>\n",
       "      <td>set1_01.JPG</td>\n",
       "      <td>0.066667</td>\n",
       "      <td>2018-06-11 02:38:22.976</td>\n",
       "      <td>3???</td>\n",
       "      <td>0.037500</td>\n",
       "      <td>0.320833</td>\n",
       "      <td>0.554167</td>\n",
       "    </tr>\n",
       "    <tr>\n",
       "      <th>2</th>\n",
       "      <td>5b1de13ccfc722ff5f3295bf</td>\n",
       "      <td>set1_02.JPG</td>\n",
       "      <td>0.034858</td>\n",
       "      <td>2018-06-11 02:41:00.740</td>\n",
       "      <td>3637</td>\n",
       "      <td>0.049419</td>\n",
       "      <td>0.385174</td>\n",
       "      <td>0.355120</td>\n",
       "    </tr>\n",
       "    <tr>\n",
       "      <th>3</th>\n",
       "      <td>5b1de144cfc722ff5f3295c4</td>\n",
       "      <td>set1_02.JPG</td>\n",
       "      <td>0.032680</td>\n",
       "      <td>2018-06-11 02:41:08.957</td>\n",
       "      <td>3638</td>\n",
       "      <td>0.047965</td>\n",
       "      <td>0.597384</td>\n",
       "      <td>0.396514</td>\n",
       "    </tr>\n",
       "  </tbody>\n",
       "</table>\n",
       "</div>"
      ],
      "text/plain": [
       "                        _id     filename    height       modified_datetime  \\\n",
       "0  5b1dde67cfc722ff5f3294b0  set1_01.JPG  0.079167 2018-06-11 02:28:55.568   \n",
       "1  5b1dde6dcfc722ff5f3294b2  set1_01.JPG  0.066667 2018-06-11 02:38:22.976   \n",
       "2  5b1de13ccfc722ff5f3295bf  set1_02.JPG  0.034858 2018-06-11 02:41:00.740   \n",
       "3  5b1de144cfc722ff5f3295c4  set1_02.JPG  0.032680 2018-06-11 02:41:08.957   \n",
       "\n",
       "   text     width         x         y  \n",
       "0  3638  0.105556  0.609722  0.725000  \n",
       "1  3???  0.037500  0.320833  0.554167  \n",
       "2  3637  0.049419  0.385174  0.355120  \n",
       "3  3638  0.047965  0.597384  0.396514  "
      ]
     },
     "execution_count": 31,
     "metadata": {},
     "output_type": "execute_result"
    }
   ],
   "source": [
    "annotation_list = [x for x in imagery_database.annotation_table.find()]\n",
    "pandas.DataFrame(annotation_list)"
   ]
  },
  {
   "cell_type": "code",
   "execution_count": null,
   "metadata": {},
   "outputs": [],
   "source": []
  }
 ],
 "metadata": {
  "kernelspec": {
   "display_name": "Python 3",
   "language": "python3.6",
   "name": "python3"
  },
  "language_info": {
   "codemirror_mode": {
    "name": "ipython",
    "version": 3
   },
   "file_extension": ".py",
   "mimetype": "text/x-python",
   "name": "python",
   "nbconvert_exporter": "python",
   "pygments_lexer": "ipython3",
   "version": "3.6.4"
  }
 },
 "nbformat": 4,
 "nbformat_minor": 2
}
